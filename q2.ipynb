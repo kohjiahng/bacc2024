{
 "cells": [
  {
   "cell_type": "code",
   "execution_count": 4,
   "metadata": {},
   "outputs": [],
   "source": [
    "from model import Model\n",
    "import random\n",
    "from tqdm import tqdm\n",
    "import pickle\n",
    "from to_excel import plan_to_state_list, to_excel"
   ]
  },
  {
   "cell_type": "code",
   "execution_count": 6,
   "metadata": {},
   "outputs": [],
   "source": [
    "def heuristic(actionmodel):\n",
    "    action, model = actionmodel\n",
    "    value = 0\n",
    "    for recipe, step in action:\n",
    "        value += (step + 1)**2\n",
    "        value += int(recipe != -1)\n",
    "    for step, num in enumerate(model.lots):\n",
    "        value += (2**step) * num\n",
    "    value += model.profit()\n",
    "    return value"
   ]
  },
  {
   "cell_type": "code",
   "execution_count": 7,
   "metadata": {},
   "outputs": [
    {
     "name": "stderr",
     "output_type": "stream",
     "text": [
      "100%|██████████| 168/168 [08:40<00:00,  3.10s/it]\n"
     ]
    }
   ],
   "source": [
    "models = [Model()]\n",
    "plan = []\n",
    "for t in tqdm(range(168)):\n",
    "    all_actions = []\n",
    "    for model in models:\n",
    "        actions = list(model.get_all_possible_actions())\n",
    "        all_actions += actions\n",
    "\n",
    "    all_actions = sorted(all_actions, key = heuristic, reverse = True)\n",
    "    models = [model for action, model in all_actions[:5]]"
   ]
  },
  {
   "cell_type": "code",
   "execution_count": 9,
   "metadata": {},
   "outputs": [
    {
     "data": {
      "text/plain": [
       "-217480"
      ]
     },
     "execution_count": 9,
     "metadata": {},
     "output_type": "execute_result"
    }
   ],
   "source": [
    "models[0].profit()"
   ]
  },
  {
   "cell_type": "code",
   "execution_count": 6,
   "metadata": {},
   "outputs": [],
   "source": [
    "model = models[0]"
   ]
  },
  {
   "cell_type": "code",
   "execution_count": 7,
   "metadata": {},
   "outputs": [
    {
     "data": {
      "text/plain": [
       "[44, 0, 0, 0, 18]"
      ]
     },
     "execution_count": 7,
     "metadata": {},
     "output_type": "execute_result"
    }
   ],
   "source": [
    "model.lots"
   ]
  },
  {
   "cell_type": "code",
   "execution_count": 12,
   "metadata": {},
   "outputs": [
    {
     "data": {
      "text/plain": [
       "[{'recipe': 0, 'step': 0, 'time': 4, 'down': False},\n",
       " {'recipe': 2, 'step': 4, 'time': 3, 'down': False},\n",
       " {'recipe': 3, 'step': 4, 'time': 1, 'down': False}]"
      ]
     },
     "execution_count": 12,
     "metadata": {},
     "output_type": "execute_result"
    }
   ],
   "source": [
    "model.equipment"
   ]
  },
  {
   "cell_type": "code",
   "execution_count": 17,
   "metadata": {},
   "outputs": [
    {
     "data": {
      "text/plain": [
       "[[44, 0, 0, 0, 18],\n",
       " [44, 0, 0, 0, 18],\n",
       " [44, 0, 0, 0, 18],\n",
       " [42, 0, 0, 0, 19],\n",
       " [42, 0, 0, 0, 19]]"
      ]
     },
     "execution_count": 17,
     "metadata": {},
     "output_type": "execute_result"
    }
   ],
   "source": [
    "[model.lots for model in models]"
   ]
  },
  {
   "cell_type": "code",
   "execution_count": 20,
   "metadata": {},
   "outputs": [],
   "source": [
    "model = models[0]"
   ]
  },
  {
   "cell_type": "code",
   "execution_count": null,
   "metadata": {},
   "outputs": [],
   "source": [
    "models[0]"
   ]
  },
  {
   "cell_type": "code",
   "execution_count": 4,
   "metadata": {},
   "outputs": [
    {
     "data": {
      "text/plain": [
       "[-208840, -210140, -210140, -170140, -170140]"
      ]
     },
     "execution_count": 4,
     "metadata": {},
     "output_type": "execute_result"
    }
   ],
   "source": [
    "[model.profit() for model in models]"
   ]
  },
  {
   "cell_type": "code",
   "execution_count": 5,
   "metadata": {},
   "outputs": [
    {
     "data": {
      "text/plain": [
       "[44, 0, 0, 0, 18]"
      ]
     },
     "execution_count": 5,
     "metadata": {},
     "output_type": "execute_result"
    }
   ],
   "source": [
    "models[0].lots"
   ]
  },
  {
   "cell_type": "code",
   "execution_count": 22,
   "metadata": {},
   "outputs": [],
   "source": [
    "pickle.dump(models, open('models.pickle', 'wb'))"
   ]
  },
  {
   "cell_type": "code",
   "execution_count": 3,
   "metadata": {},
   "outputs": [],
   "source": []
  },
  {
   "cell_type": "code",
   "execution_count": 6,
   "metadata": {},
   "outputs": [],
   "source": [
    "model = Model()\n",
    "for action in models[0].get_plan():\n",
    "    model = model.step(action)"
   ]
  },
  {
   "cell_type": "code",
   "execution_count": 8,
   "metadata": {},
   "outputs": [],
   "source": [
    "model = Model()\n",
    "plan = models[0].get_plan()\n",
    "model = model.step(plan[0])"
   ]
  },
  {
   "cell_type": "code",
   "execution_count": 9,
   "metadata": {},
   "outputs": [
    {
     "data": {
      "text/plain": [
       "[{'recipe': 0, 'step': 0, 'time': 4, 'down': False},\n",
       " {'recipe': 1, 'step': 0, 'time': 3, 'down': False},\n",
       " {'recipe': 3, 'step': 0, 'time': 2, 'down': False}]"
      ]
     },
     "execution_count": 9,
     "metadata": {},
     "output_type": "execute_result"
    }
   ],
   "source": [
    "model.equipment"
   ]
  },
  {
   "cell_type": "code",
   "execution_count": 2,
   "metadata": {},
   "outputs": [],
   "source": [
    "from model import Model\n",
    "import random\n",
    "from tqdm import tqdm\n",
    "import pickle\n",
    "from to_excel import plan_to_state_list, to_excel\n",
    "models = pickle.load(open('models.pickle', 'rb'))"
   ]
  },
  {
   "cell_type": "code",
   "execution_count": 11,
   "metadata": {},
   "outputs": [
    {
     "name": "stdout",
     "output_type": "stream",
     "text": [
      "Profit: 584410\n"
     ]
    }
   ],
   "source": [
    "plan = plan_to_state_list(models[0].get_plan())"
   ]
  },
  {
   "cell_type": "code",
   "execution_count": 10,
   "metadata": {},
   "outputs": [
    {
     "data": {
      "text/plain": [
       "[]"
      ]
     },
     "execution_count": 10,
     "metadata": {},
     "output_type": "execute_result"
    }
   ],
   "source": [
    "plan"
   ]
  },
  {
   "cell_type": "code",
   "execution_count": 12,
   "metadata": {},
   "outputs": [
    {
     "name": "stdout",
     "output_type": "stream",
     "text": [
      "Profit: 584410\n"
     ]
    }
   ],
   "source": [
    "to_excel(models[0].get_plan())"
   ]
  },
  {
   "cell_type": "code",
   "execution_count": 4,
   "metadata": {},
   "outputs": [],
   "source": [
    "plan = models[0].get_plan()"
   ]
  },
  {
   "cell_type": "code",
   "execution_count": 18,
   "metadata": {},
   "outputs": [
    {
     "name": "stdout",
     "output_type": "stream",
     "text": [
      "[0, 0, 0, 0, 0]\n",
      "[0, 0, 0, 0, 0]\n",
      "[1, 0, 0, 0, 0]\n",
      "[1, 0, 0, 0, 0]\n",
      "[1, 0, 0, 0, 0]\n",
      "[1, 0, 0, 0, 0]\n",
      "[1, 0, 0, 0, 0]\n",
      "[1, 0, 0, 0, 0]\n",
      "[1, 0, 0, 0, 0]\n",
      "[0, 0, 0, 0, 0]\n"
     ]
    }
   ],
   "source": [
    "model = Model()\n",
    "for action in plan:\n",
    "    model = model.step(action)\n",
    "    print(model.lots)"
   ]
  },
  {
   "cell_type": "code",
   "execution_count": 22,
   "metadata": {},
   "outputs": [
    {
     "data": {
      "text/plain": [
       "[139968, 0, 0, 0, 0]"
      ]
     },
     "execution_count": 22,
     "metadata": {},
     "output_type": "execute_result"
    }
   ],
   "source": [
    "models[1].lots"
   ]
  },
  {
   "cell_type": "code",
   "execution_count": 16,
   "metadata": {},
   "outputs": [
    {
     "data": {
      "text/plain": [
       "[0, 0, 0, 0, 0]"
      ]
     },
     "execution_count": 16,
     "metadata": {},
     "output_type": "execute_result"
    }
   ],
   "source": [
    "model2.lots"
   ]
  },
  {
   "cell_type": "code",
   "execution_count": null,
   "metadata": {},
   "outputs": [],
   "source": [
    "mode"
   ]
  },
  {
   "cell_type": "code",
   "execution_count": 14,
   "metadata": {},
   "outputs": [
    {
     "name": "stderr",
     "output_type": "stream",
     "text": [
      "100%|██████████| 168/168 [10:12<00:00,  3.64s/it]\n"
     ]
    }
   ],
   "source": [
    "models = [Model()]\n",
    "plan = []\n",
    "for t in tqdm(range(168)):\n",
    "    all_actions = []\n",
    "    for model in models:\n",
    "        actions = list(model.get_all_possible_actions())\n",
    "        all_actions += actions\n",
    "\n",
    "    all_actions = sorted(all_actions, key = lambda x: sum([(step+1)**2+int(recipe!=-1) for recipe, step in x[0]]), reverse = True)\n",
    "    models = [model for action, model in all_actions[:5]]"
   ]
  },
  {
   "cell_type": "code",
   "execution_count": 10,
   "metadata": {},
   "outputs": [
    {
     "data": {
      "text/plain": [
       "[[651510, 465260, 0, 0, 0],\n",
       " [651510, 465260, 0, 0, 0],\n",
       " [651510, 465260, 0, 0, 0],\n",
       " [651510, 465260, 0, 0, 0],\n",
       " [651510, 465260, 0, 0, 0]]"
      ]
     },
     "execution_count": 10,
     "metadata": {},
     "output_type": "execute_result"
    }
   ],
   "source": [
    "[model.lots for model in models]"
   ]
  },
  {
   "cell_type": "code",
   "execution_count": 18,
   "metadata": {},
   "outputs": [
    {
     "data": {
      "text/plain": [
       "[1746, 2113, 432]"
      ]
     },
     "execution_count": 18,
     "metadata": {},
     "output_type": "execute_result"
    }
   ],
   "source": [
    "models[0].materials"
   ]
  },
  {
   "cell_type": "code",
   "execution_count": 17,
   "metadata": {},
   "outputs": [
    {
     "data": {
      "text/plain": [
       "[-208840, -210140, -210140, -170140, -170140]"
      ]
     },
     "execution_count": 17,
     "metadata": {},
     "output_type": "execute_result"
    }
   ],
   "source": [
    "[model.profit() for model in models]"
   ]
  },
  {
   "cell_type": "code",
   "execution_count": 3,
   "metadata": {},
   "outputs": [
    {
     "data": {
      "text/plain": [
       "[7, 0, 0, 0, 0]"
      ]
     },
     "execution_count": 3,
     "metadata": {},
     "output_type": "execute_result"
    }
   ],
   "source": [
    "model.lots"
   ]
  },
  {
   "cell_type": "code",
   "execution_count": 7,
   "metadata": {},
   "outputs": [
    {
     "data": {
      "text/plain": [
       "[{'recipe': 0, 'step': 0, 'time': 4, 'down': False, 'just_switched': True},\n",
       " {'recipe': 1, 'step': 0, 'time': 3, 'down': False, 'just_switched': True},\n",
       " {'recipe': 0, 'step': 0, 'time': 4, 'down': False, 'just_switched': True}]"
      ]
     },
     "execution_count": 7,
     "metadata": {},
     "output_type": "execute_result"
    }
   ],
   "source": [
    "model.equipment"
   ]
  },
  {
   "cell_type": "code",
   "execution_count": 8,
   "metadata": {},
   "outputs": [
    {
     "data": {
      "text/plain": [
       "[((0, 0), (1, 0), (0, 0)),\n",
       " ((1, -1), (2, -1), (2, -1)),\n",
       " ((1, 0), (1, -1), (0, -1)),\n",
       " ((-1, -1), (1, 0), (0, 0)),\n",
       " ((0, -1), (-1, -1), (-1, -1)),\n",
       " ((0, 0), (2, -1), (2, -1)),\n",
       " ((-1, -1), (1, -1), (0, -1)),\n",
       " ((1, -1), (1, 0), (0, 0)),\n",
       " ((1, 0), (-1, -1), (-1, -1)),\n",
       " ((-1, -1), (2, -1), (2, -1)),\n",
       " ((0, -1), (1, -1), (0, -1)),\n",
       " ((0, 0), (1, 0), (0, 0)),\n",
       " ((-1, -1), (-1, -1), (-1, -1)),\n",
       " ((1, -1), (2, -1), (2, -1)),\n",
       " ((1, 0), (1, -1), (0, -1)),\n",
       " ((-1, -1), (1, 0), (0, 0)),\n",
       " ((0, -1), (-1, -1), (-1, -1)),\n",
       " ((0, 0), (2, -1), (2, -1)),\n",
       " ((-1, -1), (1, -1), (0, -1)),\n",
       " ((1, -1), (1, 0), (0, 0)),\n",
       " ((1, 0), (-1, -1), (-1, -1)),\n",
       " ((-1, -1), (2, -1), (2, -1)),\n",
       " ((0, -1), (1, -1), (0, -1)),\n",
       " ((0, 0), (1, 0), (0, 0))]"
      ]
     },
     "execution_count": 8,
     "metadata": {},
     "output_type": "execute_result"
    }
   ],
   "source": [
    "plan"
   ]
  },
  {
   "cell_type": "code",
   "execution_count": 5,
   "metadata": {},
   "outputs": [
    {
     "name": "stdout",
     "output_type": "stream",
     "text": [
      "[{'recipe': 0, 'step': 0, 'time': 4, 'lot': 1, 'down': False}, {'recipe': 1, 'step': 0, 'time': 3, 'lot': 2, 'down': False}, {'recipe': 0, 'step': 0, 'time': 4, 'lot': 3, 'down': False}]\n"
     ]
    },
    {
     "ename": "Exception",
     "evalue": "Invalid action, machine 0 busy",
     "output_type": "error",
     "traceback": [
      "\u001b[0;31m---------------------------------------------------------------------------\u001b[0m",
      "\u001b[0;31mException\u001b[0m                                 Traceback (most recent call last)",
      "\u001b[1;32m/home/jiahng/Documents/BACC/q2.ipynb Cell 3\u001b[0m line \u001b[0;36m1\n\u001b[0;32m----> <a href='vscode-notebook-cell:/home/jiahng/Documents/BACC/q2.ipynb#Y112sZmlsZQ%3D%3D?line=0'>1</a>\u001b[0m plan_to_state_list(plan)\n",
      "File \u001b[0;32m~/Documents/BACC/to_excel.py:44\u001b[0m, in \u001b[0;36mplan_to_state_list\u001b[0;34m(plan)\u001b[0m\n\u001b[1;32m     35\u001b[0m \u001b[39m# if step == -1:\u001b[39;00m\n\u001b[1;32m     36\u001b[0m \u001b[39m#     if recipe == equipment[i]['recipe']:\u001b[39;00m\n\u001b[1;32m     37\u001b[0m \u001b[39m#         raise Exception(f\"New recipe ({recipe}) should be different from old recipe ({equipment[i]['recipe']}) when step == -1\")\u001b[39;00m\n\u001b[0;32m   (...)\u001b[0m\n\u001b[1;32m     40\u001b[0m \u001b[39m#     equipment[i]['time'] = Const.downtime[recipe][equipment[i]['recipe']]\u001b[39;00m\n\u001b[1;32m     41\u001b[0m \u001b[39m#     equipment[i]['recipe'] =  recipe\u001b[39;00m\n\u001b[1;32m     43\u001b[0m \u001b[39mif\u001b[39;00m equipment[i][\u001b[39m'\u001b[39m\u001b[39mtime\u001b[39m\u001b[39m'\u001b[39m] \u001b[39m!=\u001b[39m \u001b[39m0\u001b[39m:\n\u001b[0;32m---> 44\u001b[0m     \u001b[39mraise\u001b[39;00m \u001b[39mException\u001b[39;00m(\u001b[39mf\u001b[39m\u001b[39m\"\u001b[39m\u001b[39mInvalid action, machine \u001b[39m\u001b[39m{\u001b[39;00mi\u001b[39m}\u001b[39;00m\u001b[39m busy\u001b[39m\u001b[39m\"\u001b[39m)\n\u001b[1;32m     45\u001b[0m \u001b[39mif\u001b[39;00m recipe \u001b[39mnot\u001b[39;00m \u001b[39min\u001b[39;00m Const\u001b[39m.\u001b[39mvalidRecipeforEquipment[i]:\n\u001b[1;32m     46\u001b[0m     \u001b[39mraise\u001b[39;00m \u001b[39mException\u001b[39;00m(\u001b[39mf\u001b[39m\u001b[39m\"\u001b[39m\u001b[39mInvalid action, machine \u001b[39m\u001b[39m{\u001b[39;00mi\u001b[39m}\u001b[39;00m\u001b[39m cannot do recipe \u001b[39m\u001b[39m{\u001b[39;00mrecipe\u001b[39m}\u001b[39;00m\u001b[39m\"\u001b[39m)\n",
      "\u001b[0;31mException\u001b[0m: Invalid action, machine 0 busy"
     ]
    }
   ],
   "source": [
    "plan_to_state_list(plan)"
   ]
  },
  {
   "cell_type": "code",
   "execution_count": 3,
   "metadata": {},
   "outputs": [
    {
     "data": {
      "text/plain": [
       "<model.Model at 0x7fae4af27a30>"
      ]
     },
     "execution_count": 3,
     "metadata": {},
     "output_type": "execute_result"
    }
   ],
   "source": [
    "model = Model()\n",
    "model.step(((0,-1),(1,0),(0,-1)))"
   ]
  },
  {
   "cell_type": "code",
   "execution_count": 10,
   "metadata": {},
   "outputs": [
    {
     "data": {
      "text/plain": [
       "[((0, -1), (1, -1), (0, -1)),\n",
       " ((1, -1), (2, -1), (2, -1)),\n",
       " ((-1, -1), (1, -1), (-1, -1)),\n",
       " ((-1, -1), (-1, -1), (-1, -1)),\n",
       " ((0, -1), (-1, -1), (0, -1)),\n",
       " ((1, -1), (2, -1), (2, -1)),\n",
       " ((-1, -1), (1, -1), (-1, -1)),\n",
       " ((-1, -1), (-1, -1), (-1, -1)),\n",
       " ((0, -1), (-1, -1), (0, -1)),\n",
       " ((1, -1), (2, -1), (2, -1)),\n",
       " ((-1, -1), (1, -1), (-1, -1)),\n",
       " ((-1, -1), (-1, -1), (-1, -1)),\n",
       " ((0, -1), (-1, -1), (0, -1)),\n",
       " ((1, -1), (2, -1), (2, -1)),\n",
       " ((-1, -1), (1, -1), (-1, -1)),\n",
       " ((-1, -1), (-1, -1), (-1, -1)),\n",
       " ((0, -1), (-1, -1), (0, -1)),\n",
       " ((1, -1), (2, -1), (2, -1)),\n",
       " ((-1, -1), (1, -1), (-1, -1)),\n",
       " ((-1, -1), (-1, -1), (-1, -1)),\n",
       " ((0, -1), (-1, -1), (0, -1)),\n",
       " ((1, -1), (2, -1), (2, -1)),\n",
       " ((-1, -1), (1, -1), (-1, -1)),\n",
       " ((-1, -1), (-1, -1), (-1, -1))]"
      ]
     },
     "execution_count": 10,
     "metadata": {},
     "output_type": "execute_result"
    }
   ],
   "source": [
    "plan"
   ]
  },
  {
   "cell_type": "code",
   "execution_count": 4,
   "metadata": {},
   "outputs": [],
   "source": [
    "pickle.dump(plan, open('plan.pickle', 'wb'))\n",
    "plan = pickle.load(open('plan.pickle', 'rb'))"
   ]
  },
  {
   "cell_type": "code",
   "execution_count": 3,
   "metadata": {},
   "outputs": [],
   "source": [
    "plan = pickle.load(open('plan.pickle', 'rb'))"
   ]
  },
  {
   "cell_type": "code",
   "execution_count": 2,
   "metadata": {},
   "outputs": [
    {
     "name": "stdout",
     "output_type": "stream",
     "text": [
      "[{'recipe': 0, 'step': 0, 'time': 4, 'lot': 1, 'down': False}, {'recipe': -1, 'step': -1, 'time': 0, 'lot': -1, 'down': False}, {'recipe': -1, 'step': -1, 'time': 0, 'lot': -1, 'down': False}]\n",
      "[{'recipe': 0, 'step': 0, 'time': 3, 'lot': 1, 'down': False}, {'recipe': -1, 'step': -1, 'time': 0, 'lot': -1, 'down': False}, {'recipe': -1, 'step': -1, 'time': 0, 'lot': -1, 'down': False}]\n",
      "[{'recipe': 0, 'step': 0, 'time': 2, 'lot': 1, 'down': False}, {'recipe': -1, 'step': -1, 'time': 0, 'lot': -1, 'down': False}, {'recipe': -1, 'step': -1, 'time': 0, 'lot': -1, 'down': False}]\n",
      "[{'recipe': 0, 'step': 0, 'time': 1, 'lot': 1, 'down': False}, {'recipe': -1, 'step': -1, 'time': 0, 'lot': -1, 'down': False}, {'recipe': -1, 'step': -1, 'time': 0, 'lot': -1, 'down': False}]\n",
      "[{'recipe': 0, 'step': 0, 'time': 0, 'lot': -1, 'down': False}, {'recipe': -1, 'step': -1, 'time': 0, 'lot': -1, 'down': False}, {'recipe': -1, 'step': -1, 'time': 0, 'lot': -1, 'down': False}]\n",
      "[{'recipe': 0, 'step': 0, 'time': 0, 'lot': -1, 'down': False}, {'recipe': -1, 'step': -1, 'time': 0, 'lot': -1, 'down': False}, {'recipe': -1, 'step': -1, 'time': 0, 'lot': -1, 'down': False}]\n",
      "[{'recipe': 0, 'step': 0, 'time': 0, 'lot': -1, 'down': False}, {'recipe': -1, 'step': -1, 'time': 0, 'lot': -1, 'down': False}, {'recipe': -1, 'step': -1, 'time': 0, 'lot': -1, 'down': False}]\n",
      "[{'recipe': 0, 'step': 0, 'time': 0, 'lot': -1, 'down': False}, {'recipe': -1, 'step': -1, 'time': 0, 'lot': -1, 'down': False}, {'recipe': -1, 'step': -1, 'time': 0, 'lot': -1, 'down': False}]\n",
      "[{'recipe': 0, 'step': 0, 'time': 0, 'lot': -1, 'down': False}, {'recipe': -1, 'step': -1, 'time': 0, 'lot': -1, 'down': False}, {'recipe': -1, 'step': -1, 'time': 0, 'lot': -1, 'down': False}]\n",
      "[{'recipe': 0, 'step': 0, 'time': 0, 'lot': -1, 'down': False}, {'recipe': -1, 'step': -1, 'time': 0, 'lot': -1, 'down': False}, {'recipe': -1, 'step': -1, 'time': 0, 'lot': -1, 'down': False}]\n",
      "[{'recipe': 0, 'step': 0, 'time': 0, 'lot': -1, 'down': False}, {'recipe': -1, 'step': -1, 'time': 0, 'lot': -1, 'down': False}, {'recipe': -1, 'step': -1, 'time': 0, 'lot': -1, 'down': False}]\n",
      "[{'recipe': 0, 'step': 0, 'time': 0, 'lot': -1, 'down': False}, {'recipe': 2, 'step': 1, 'time': 5, 'lot': 1, 'down': False}, {'recipe': -1, 'step': -1, 'time': 0, 'lot': -1, 'down': False}]\n",
      "[{'recipe': 0, 'step': 0, 'time': 0, 'lot': -1, 'down': False}, {'recipe': 2, 'step': 1, 'time': 4, 'lot': 1, 'down': False}, {'recipe': -1, 'step': -1, 'time': 0, 'lot': -1, 'down': False}]\n",
      "[{'recipe': 0, 'step': 0, 'time': 0, 'lot': -1, 'down': False}, {'recipe': 2, 'step': 1, 'time': 3, 'lot': 1, 'down': False}, {'recipe': -1, 'step': -1, 'time': 0, 'lot': -1, 'down': False}]\n",
      "[{'recipe': 0, 'step': 0, 'time': 0, 'lot': -1, 'down': False}, {'recipe': 2, 'step': 1, 'time': 2, 'lot': 1, 'down': False}, {'recipe': -1, 'step': -1, 'time': 0, 'lot': -1, 'down': False}]\n",
      "[{'recipe': 0, 'step': 0, 'time': 0, 'lot': -1, 'down': False}, {'recipe': 2, 'step': 1, 'time': 1, 'lot': 1, 'down': False}, {'recipe': -1, 'step': -1, 'time': 0, 'lot': -1, 'down': False}]\n",
      "[{'recipe': 0, 'step': 0, 'time': 0, 'lot': -1, 'down': False}, {'recipe': 2, 'step': 1, 'time': 0, 'lot': -1, 'down': False}, {'recipe': -1, 'step': -1, 'time': 0, 'lot': -1, 'down': False}]\n",
      "[{'recipe': 0, 'step': 0, 'time': 0, 'lot': -1, 'down': False}, {'recipe': 2, 'step': 1, 'time': 0, 'lot': -1, 'down': False}, {'recipe': -1, 'step': -1, 'time': 0, 'lot': -1, 'down': False}]\n",
      "[{'recipe': 0, 'step': 0, 'time': 0, 'lot': -1, 'down': False}, {'recipe': 2, 'step': 1, 'time': 0, 'lot': -1, 'down': False}, {'recipe': -1, 'step': -1, 'time': 0, 'lot': -1, 'down': False}]\n",
      "[{'recipe': 0, 'step': 0, 'time': 0, 'lot': -1, 'down': False}, {'recipe': 2, 'step': 1, 'time': 0, 'lot': -1, 'down': False}, {'recipe': -1, 'step': -1, 'time': 0, 'lot': -1, 'down': False}]\n",
      "[{'recipe': 0, 'step': 0, 'time': 0, 'lot': -1, 'down': False}, {'recipe': 2, 'step': 1, 'time': 0, 'lot': -1, 'down': False}, {'recipe': -1, 'step': -1, 'time': 0, 'lot': -1, 'down': False}]\n",
      "[{'recipe': 0, 'step': 0, 'time': 0, 'lot': -1, 'down': False}, {'recipe': 2, 'step': 1, 'time': 0, 'lot': -1, 'down': False}, {'recipe': -1, 'step': -1, 'time': 0, 'lot': -1, 'down': False}]\n"
     ]
    },
    {
     "data": {
      "text/plain": [
       "[((1, 'A', 0), ('IDLE', 'IDLE', 'IDLE'), ('IDLE', 'IDLE', 'IDLE')),\n",
       " ((1, 'A', 0), ('IDLE', 'IDLE', 'IDLE'), ('IDLE', 'IDLE', 'IDLE')),\n",
       " ((1, 'A', 0), ('IDLE', 'IDLE', 'IDLE'), ('IDLE', 'IDLE', 'IDLE')),\n",
       " ((1, 'A', 0), ('IDLE', 'IDLE', 'IDLE'), ('IDLE', 'IDLE', 'IDLE')),\n",
       " (('IDLE', 'IDLE', 'IDLE'),\n",
       "  ('IDLE', 'IDLE', 'IDLE'),\n",
       "  ('IDLE', 'IDLE', 'IDLE')),\n",
       " (('IDLE', 'IDLE', 'IDLE'),\n",
       "  ('IDLE', 'IDLE', 'IDLE'),\n",
       "  ('IDLE', 'IDLE', 'IDLE')),\n",
       " (('IDLE', 'IDLE', 'IDLE'),\n",
       "  ('IDLE', 'IDLE', 'IDLE'),\n",
       "  ('IDLE', 'IDLE', 'IDLE')),\n",
       " (('IDLE', 'IDLE', 'IDLE'),\n",
       "  ('IDLE', 'IDLE', 'IDLE'),\n",
       "  ('IDLE', 'IDLE', 'IDLE')),\n",
       " (('IDLE', 'IDLE', 'IDLE'),\n",
       "  ('IDLE', 'IDLE', 'IDLE'),\n",
       "  ('IDLE', 'IDLE', 'IDLE')),\n",
       " (('IDLE', 'IDLE', 'IDLE'),\n",
       "  ('IDLE', 'IDLE', 'IDLE'),\n",
       "  ('IDLE', 'IDLE', 'IDLE')),\n",
       " (('IDLE', 'IDLE', 'IDLE'),\n",
       "  ('IDLE', 'IDLE', 'IDLE'),\n",
       "  ('IDLE', 'IDLE', 'IDLE')),\n",
       " (('IDLE', 'IDLE', 'IDLE'), (1, 'C', 1), ('IDLE', 'IDLE', 'IDLE')),\n",
       " (('IDLE', 'IDLE', 'IDLE'), (1, 'C', 1), ('IDLE', 'IDLE', 'IDLE')),\n",
       " (('IDLE', 'IDLE', 'IDLE'), (1, 'C', 1), ('IDLE', 'IDLE', 'IDLE')),\n",
       " (('IDLE', 'IDLE', 'IDLE'), (1, 'C', 1), ('IDLE', 'IDLE', 'IDLE')),\n",
       " (('IDLE', 'IDLE', 'IDLE'), (1, 'C', 1), ('IDLE', 'IDLE', 'IDLE')),\n",
       " (('IDLE', 'IDLE', 'IDLE'),\n",
       "  ('IDLE', 'IDLE', 'IDLE'),\n",
       "  ('IDLE', 'IDLE', 'IDLE')),\n",
       " (('IDLE', 'IDLE', 'IDLE'),\n",
       "  ('IDLE', 'IDLE', 'IDLE'),\n",
       "  ('IDLE', 'IDLE', 'IDLE')),\n",
       " (('IDLE', 'IDLE', 'IDLE'),\n",
       "  ('IDLE', 'IDLE', 'IDLE'),\n",
       "  ('IDLE', 'IDLE', 'IDLE')),\n",
       " (('IDLE', 'IDLE', 'IDLE'),\n",
       "  ('IDLE', 'IDLE', 'IDLE'),\n",
       "  ('IDLE', 'IDLE', 'IDLE')),\n",
       " (('IDLE', 'IDLE', 'IDLE'),\n",
       "  ('IDLE', 'IDLE', 'IDLE'),\n",
       "  ('IDLE', 'IDLE', 'IDLE')),\n",
       " (('IDLE', 'IDLE', 'IDLE'),\n",
       "  ('IDLE', 'IDLE', 'IDLE'),\n",
       "  ('IDLE', 'IDLE', 'IDLE'))]"
      ]
     },
     "execution_count": 2,
     "metadata": {},
     "output_type": "execute_result"
    }
   ],
   "source": [
    "heheplan = []\n",
    "heheplan.append(((0,0),(-1,-1),(-1,-1)))\n",
    "for _ in range(10):\n",
    "    heheplan.append(((-1,-1),(-1,-1),(-1,-1)))\n",
    "heheplan.append(((-1,-1),(2,1),(-1,-1)))\n",
    "for _ in range(10):\n",
    "    heheplan.append(((-1,-1),(-1,-1),(-1,-1)))\n",
    "plan_to_state_list(heheplan)"
   ]
  },
  {
   "cell_type": "code",
   "execution_count": 11,
   "metadata": {},
   "outputs": [
    {
     "ename": "IndexError",
     "evalue": "pop from empty list",
     "output_type": "error",
     "traceback": [
      "\u001b[0;31m---------------------------------------------------------------------------\u001b[0m",
      "\u001b[0;31mIndexError\u001b[0m                                Traceback (most recent call last)",
      "\u001b[1;32m/home/jiahng/Documents/BACC/q2.ipynb Cell 8\u001b[0m line \u001b[0;36m1\n\u001b[0;32m----> <a href='vscode-notebook-cell:/home/jiahng/Documents/BACC/q2.ipynb#Y105sZmlsZQ%3D%3D?line=0'>1</a>\u001b[0m plan_to_state_list(plan)\n",
      "File \u001b[0;32m~/Documents/BACC/to_excel.py:63\u001b[0m, in \u001b[0;36mplan_to_state_list\u001b[0;34m(plan)\u001b[0m\n\u001b[1;32m     61\u001b[0m     \u001b[39mif\u001b[39;00m lots[step\u001b[39m-\u001b[39m\u001b[39m1\u001b[39m] \u001b[39m==\u001b[39m \u001b[39m0\u001b[39m:\n\u001b[1;32m     62\u001b[0m         \u001b[39mraise\u001b[39;00m \u001b[39mException\u001b[39;00m(\u001b[39mf\u001b[39m\u001b[39m\"\u001b[39m\u001b[39mInvalid action, no lot at step \u001b[39m\u001b[39m{\u001b[39;00mstep\u001b[39m-\u001b[39m\u001b[39m1\u001b[39m\u001b[39m}\u001b[39;00m\u001b[39m\"\u001b[39m)\n\u001b[0;32m---> 63\u001b[0m     used_lot \u001b[39m=\u001b[39m lots[step\u001b[39m-\u001b[39;49m\u001b[39m1\u001b[39;49m]\u001b[39m.\u001b[39;49mpop(\u001b[39m0\u001b[39;49m)\n\u001b[1;32m     64\u001b[0m     equipment[i][\u001b[39m'\u001b[39m\u001b[39mlot\u001b[39m\u001b[39m'\u001b[39m] \u001b[39m=\u001b[39m used_lot\n\u001b[1;32m     65\u001b[0m \u001b[39melse\u001b[39;00m:\n",
      "\u001b[0;31mIndexError\u001b[0m: pop from empty list"
     ]
    }
   ],
   "source": [
    "plan_to_state_list(plan)"
   ]
  },
  {
   "cell_type": "code",
   "execution_count": 5,
   "metadata": {},
   "outputs": [
    {
     "data": {
      "text/plain": [
       "[3, 0, 0, 0, 0]"
      ]
     },
     "execution_count": 5,
     "metadata": {},
     "output_type": "execute_result"
    }
   ],
   "source": [
    "model.lots"
   ]
  },
  {
   "cell_type": "code",
   "execution_count": 4,
   "metadata": {},
   "outputs": [],
   "source": [
    "model = Model()\n",
    "model = model.step(((0,0),(-1,-1),(-1,-1)))\n",
    "for _ in range(10):\n",
    "    model = model.step(((-1,-1),(-1,-1),(-1,-1)))\n",
    "model = model.step(((-1,-1),(2,1),(-1,-1)))\n",
    "for _ in range(10):\n",
    "    model = model.step(((-1,-1),(-1,-1),(-1,-1)))"
   ]
  },
  {
   "cell_type": "code",
   "execution_count": 5,
   "metadata": {},
   "outputs": [
    {
     "data": {
      "text/plain": [
       "[{'recipe': 0, 'step': 0, 'time': 0, 'down': False},\n",
       " {'recipe': 2, 'step': 1, 'time': 0, 'down': False},\n",
       " {'recipe': -1, 'step': -1, 'time': 0, 'down': False}]"
      ]
     },
     "execution_count": 5,
     "metadata": {},
     "output_type": "execute_result"
    }
   ],
   "source": [
    "model.equipment"
   ]
  },
  {
   "cell_type": "code",
   "execution_count": 6,
   "metadata": {},
   "outputs": [
    {
     "data": {
      "text/plain": [
       "[0, 1, 0, 0, 0]"
      ]
     },
     "execution_count": 6,
     "metadata": {},
     "output_type": "execute_result"
    }
   ],
   "source": [
    "model.lots"
   ]
  },
  {
   "cell_type": "code",
   "execution_count": 5,
   "metadata": {},
   "outputs": [
    {
     "data": {
      "text/plain": [
       "-103120"
      ]
     },
     "execution_count": 5,
     "metadata": {},
     "output_type": "execute_result"
    }
   ],
   "source": [
    "model.profit()"
   ]
  },
  {
   "cell_type": "code",
   "execution_count": 6,
   "metadata": {},
   "outputs": [
    {
     "data": {
      "text/plain": [
       "[17, 0, 0, 0, 0]"
      ]
     },
     "execution_count": 6,
     "metadata": {},
     "output_type": "execute_result"
    }
   ],
   "source": [
    "model.lots"
   ]
  },
  {
   "cell_type": "code",
   "execution_count": 14,
   "metadata": {},
   "outputs": [
    {
     "ename": "Exception",
     "evalue": "Invalid action, machine 0 busy",
     "output_type": "error",
     "traceback": [
      "\u001b[0;31m---------------------------------------------------------------------------\u001b[0m",
      "\u001b[0;31mException\u001b[0m                                 Traceback (most recent call last)",
      "\u001b[1;32m/home/jiahng/Documents/BACC/q2.ipynb Cell 4\u001b[0m line \u001b[0;36m1\n\u001b[0;32m----> <a href='vscode-notebook-cell:/home/jiahng/Documents/BACC/q2.ipynb#X52sZmlsZQ%3D%3D?line=0'>1</a>\u001b[0m model2 \u001b[39m=\u001b[39m model\u001b[39m.\u001b[39;49mstep(((\u001b[39m2\u001b[39;49m,\u001b[39m-\u001b[39;49m\u001b[39m1\u001b[39;49m),(\u001b[39m-\u001b[39;49m\u001b[39m1\u001b[39;49m,\u001b[39m-\u001b[39;49m\u001b[39m1\u001b[39;49m),(\u001b[39m-\u001b[39;49m\u001b[39m1\u001b[39;49m,\u001b[39m-\u001b[39;49m\u001b[39m1\u001b[39;49m)))\n",
      "File \u001b[0;32m~/Documents/BACC/model.py:56\u001b[0m, in \u001b[0;36mModel.step\u001b[0;34m(self, action)\u001b[0m\n\u001b[1;32m     53\u001b[0m     new_self\u001b[39m.\u001b[39mequipment[i][\u001b[39m'\u001b[39m\u001b[39mrecipe\u001b[39m\u001b[39m'\u001b[39m] \u001b[39m=\u001b[39m  recipe\n\u001b[1;32m     55\u001b[0m \u001b[39mif\u001b[39;00m new_self\u001b[39m.\u001b[39mequipment[i][\u001b[39m'\u001b[39m\u001b[39mtime\u001b[39m\u001b[39m'\u001b[39m] \u001b[39m!=\u001b[39m \u001b[39m0\u001b[39m:\n\u001b[0;32m---> 56\u001b[0m     \u001b[39mraise\u001b[39;00m \u001b[39mException\u001b[39;00m(\u001b[39mf\u001b[39m\u001b[39m\"\u001b[39m\u001b[39mInvalid action, machine \u001b[39m\u001b[39m{\u001b[39;00mi\u001b[39m}\u001b[39;00m\u001b[39m busy\u001b[39m\u001b[39m\"\u001b[39m)\n\u001b[1;32m     57\u001b[0m \u001b[39mif\u001b[39;00m recipe \u001b[39mnot\u001b[39;00m \u001b[39min\u001b[39;00m Const\u001b[39m.\u001b[39mvalidRecipeforEquipment[i]:\n\u001b[1;32m     58\u001b[0m     \u001b[39mraise\u001b[39;00m \u001b[39mException\u001b[39;00m(\u001b[39mf\u001b[39m\u001b[39m\"\u001b[39m\u001b[39mInvalid action, machine \u001b[39m\u001b[39m{\u001b[39;00mi\u001b[39m}\u001b[39;00m\u001b[39m cannot do recipe \u001b[39m\u001b[39m{\u001b[39;00mrecipe\u001b[39m}\u001b[39;00m\u001b[39m\"\u001b[39m)\n",
      "\u001b[0;31mException\u001b[0m: Invalid action, machine 0 busy"
     ]
    }
   ],
   "source": [
    "model2 = model.step(((2,-1),(-1,-1),(-1,-1)))"
   ]
  },
  {
   "cell_type": "code",
   "execution_count": 13,
   "metadata": {},
   "outputs": [
    {
     "data": {
      "text/plain": [
       "[{'recipe': 0, 'step': 0, 'time': 0, 'down': False},\n",
       " {'recipe': 1, 'step': 0, 'time': 0, 'down': False},\n",
       " {'recipe': 0, 'step': 0, 'time': 0, 'down': False}]"
      ]
     },
     "execution_count": 13,
     "metadata": {},
     "output_type": "execute_result"
    }
   ],
   "source": [
    "model.equipment"
   ]
  },
  {
   "cell_type": "code",
   "execution_count": 2,
   "metadata": {},
   "outputs": [],
   "source": [
    "plan = pickle.load(open(\"plan.pickle\", 'rb'))"
   ]
  },
  {
   "cell_type": "code",
   "execution_count": 6,
   "metadata": {},
   "outputs": [
    {
     "name": "stdout",
     "output_type": "stream",
     "text": [
      "[{'recipe': 0, 'step': 0, 'time': 4, 'lot': 1, 'down': False}, {'recipe': 1, 'step': 0, 'time': 3, 'lot': 2, 'down': False}, {'recipe': 0, 'step': 0, 'time': 4, 'lot': 3, 'down': False}]\n",
      "[{'recipe': 0, 'step': 0, 'time': 3, 'lot': 1, 'down': False}, {'recipe': 1, 'step': 0, 'time': 2, 'lot': 2, 'down': False}, {'recipe': 0, 'step': 0, 'time': 3, 'lot': 3, 'down': False}]\n",
      "[{'recipe': 0, 'step': 0, 'time': 2, 'lot': 1, 'down': False}, {'recipe': 1, 'step': 0, 'time': 1, 'lot': 2, 'down': False}, {'recipe': 0, 'step': 0, 'time': 2, 'lot': 3, 'down': False}]\n"
     ]
    },
    {
     "ename": "Exception",
     "evalue": "New recipe (2) must be the same as old recipe (1) when step != -1",
     "output_type": "error",
     "traceback": [
      "\u001b[0;31m---------------------------------------------------------------------------\u001b[0m",
      "\u001b[0;31mException\u001b[0m                                 Traceback (most recent call last)",
      "\u001b[1;32m/home/jiahng/Documents/BACC/q2.ipynb Cell 5\u001b[0m line \u001b[0;36m1\n\u001b[0;32m----> <a href='vscode-notebook-cell:/home/jiahng/Documents/BACC/q2.ipynb#X46sZmlsZQ%3D%3D?line=0'>1</a>\u001b[0m plan_to_state_list(plan)\n",
      "File \u001b[0;32m~/Documents/BACC/to_excel.py:52\u001b[0m, in \u001b[0;36mplan_to_state_list\u001b[0;34m(plan)\u001b[0m\n\u001b[1;32m     48\u001b[0m     \u001b[39mraise\u001b[39;00m \u001b[39mException\u001b[39;00m(\u001b[39mf\u001b[39m\u001b[39m\"\u001b[39m\u001b[39mInvalid action, recipe \u001b[39m\u001b[39m{\u001b[39;00mrecipe\u001b[39m}\u001b[39;00m\u001b[39m cannot do step \u001b[39m\u001b[39m{\u001b[39;00mstep\u001b[39m}\u001b[39;00m\u001b[39m\"\u001b[39m)\n\u001b[1;32m     51\u001b[0m \u001b[39mif\u001b[39;00m equipment[i][\u001b[39m'\u001b[39m\u001b[39mrecipe\u001b[39m\u001b[39m'\u001b[39m] \u001b[39m!=\u001b[39m recipe \u001b[39mand\u001b[39;00m equipment[i][\u001b[39m'\u001b[39m\u001b[39mrecipe\u001b[39m\u001b[39m'\u001b[39m] \u001b[39m!=\u001b[39m \u001b[39m-\u001b[39m\u001b[39m1\u001b[39m:\n\u001b[0;32m---> 52\u001b[0m     \u001b[39mraise\u001b[39;00m \u001b[39mException\u001b[39;00m(\u001b[39mf\u001b[39m\u001b[39m\"\u001b[39m\u001b[39mNew recipe (\u001b[39m\u001b[39m{\u001b[39;00mrecipe\u001b[39m}\u001b[39;00m\u001b[39m) must be the same as old recipe (\u001b[39m\u001b[39m{\u001b[39;00mequipment[i][\u001b[39m'\u001b[39m\u001b[39mrecipe\u001b[39m\u001b[39m'\u001b[39m]\u001b[39m}\u001b[39;00m\u001b[39m) when step != -1\u001b[39m\u001b[39m\"\u001b[39m)\n\u001b[1;32m     53\u001b[0m \u001b[39melse\u001b[39;00m:\n\u001b[1;32m     54\u001b[0m     \u001b[39mif\u001b[39;00m step \u001b[39m!=\u001b[39m \u001b[39m0\u001b[39m:\n",
      "\u001b[0;31mException\u001b[0m: New recipe (2) must be the same as old recipe (1) when step != -1"
     ]
    }
   ],
   "source": [
    "plan_to_state_list(plan)"
   ]
  },
  {
   "cell_type": "code",
   "execution_count": 10,
   "metadata": {},
   "outputs": [],
   "source": [
    "pickle.dump(plan, open('plan.pickle', 'wb'))"
   ]
  },
  {
   "cell_type": "code",
   "execution_count": null,
   "metadata": {},
   "outputs": [],
   "source": [
    "plan"
   ]
  },
  {
   "cell_type": "code",
   "execution_count": 3,
   "metadata": {},
   "outputs": [
    {
     "data": {
      "text/plain": [
       "-660800"
      ]
     },
     "execution_count": 3,
     "metadata": {},
     "output_type": "execute_result"
    }
   ],
   "source": [
    "model.profit()"
   ]
  },
  {
   "cell_type": "code",
   "execution_count": 2,
   "metadata": {},
   "outputs": [],
   "source": [
    "model = Model()\n",
    "model2 = model.step(((0,0),(-1,0),(-1,0)))"
   ]
  },
  {
   "cell_type": "code",
   "execution_count": 3,
   "metadata": {},
   "outputs": [
    {
     "data": {
      "text/plain": [
       "[{'recipe': -1, 'step': 0, 'time': 4, 'down': False},\n",
       " {'recipe': -1, 'step': -1, 'time': 0, 'down': False},\n",
       " {'recipe': -1, 'step': -1, 'time': 0, 'down': False}]"
      ]
     },
     "execution_count": 3,
     "metadata": {},
     "output_type": "execute_result"
    }
   ],
   "source": [
    "model2.equipment"
   ]
  },
  {
   "cell_type": "code",
   "execution_count": 19,
   "metadata": {},
   "outputs": [],
   "source": [
    "from copy import deepcopy\n",
    "test = deepcopy(model)"
   ]
  },
  {
   "cell_type": "code",
   "execution_count": 26,
   "metadata": {},
   "outputs": [],
   "source": [
    "test.equipment[0]['recipe'] += 1"
   ]
  },
  {
   "cell_type": "code",
   "execution_count": 12,
   "metadata": {},
   "outputs": [
    {
     "data": {
      "text/plain": [
       "[3, 2, 1]"
      ]
     },
     "execution_count": 12,
     "metadata": {},
     "output_type": "execute_result"
    }
   ],
   "source": [
    "sorted([1,3,2], reverse=True)"
   ]
  },
  {
   "cell_type": "code",
   "execution_count": 3,
   "metadata": {},
   "outputs": [
    {
     "data": {
      "text/plain": [
       "[1800, 990, 252]"
      ]
     },
     "execution_count": 3,
     "metadata": {},
     "output_type": "execute_result"
    }
   ],
   "source": [
    "model.materials"
   ]
  },
  {
   "cell_type": "code",
   "execution_count": 4,
   "metadata": {},
   "outputs": [
    {
     "data": {
      "text/plain": [
       "[26, 12, 2, 0, 11]"
      ]
     },
     "execution_count": 4,
     "metadata": {},
     "output_type": "execute_result"
    }
   ],
   "source": [
    "model.lots"
   ]
  },
  {
   "cell_type": "code",
   "execution_count": 5,
   "metadata": {},
   "outputs": [
    {
     "data": {
      "text/plain": [
       "617940"
      ]
     },
     "execution_count": 5,
     "metadata": {},
     "output_type": "execute_result"
    }
   ],
   "source": [
    "model.cost()"
   ]
  },
  {
   "cell_type": "code",
   "execution_count": 7,
   "metadata": {},
   "outputs": [
    {
     "data": {
      "text/plain": [
       "-177940"
      ]
     },
     "execution_count": 7,
     "metadata": {},
     "output_type": "execute_result"
    }
   ],
   "source": [
    "model.lots[4]*40000 - model.cost()"
   ]
  }
 ],
 "metadata": {
  "kernelspec": {
   "display_name": "Python 3",
   "language": "python",
   "name": "python3"
  },
  "language_info": {
   "codemirror_mode": {
    "name": "ipython",
    "version": 3
   },
   "file_extension": ".py",
   "mimetype": "text/x-python",
   "name": "python",
   "nbconvert_exporter": "python",
   "pygments_lexer": "ipython3",
   "version": "3.10.12"
  }
 },
 "nbformat": 4,
 "nbformat_minor": 2
}
