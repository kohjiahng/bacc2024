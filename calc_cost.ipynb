{
 "cells": [
  {
   "cell_type": "code",
   "execution_count": 30,
   "metadata": {},
   "outputs": [],
   "source": [
    "import pandas as pd\n",
    "import numpy as np\n",
    "import const as Const"
   ]
  },
  {
   "cell_type": "code",
   "execution_count": 31,
   "metadata": {},
   "outputs": [],
   "source": [
    "df = pd.read_excel('out.xlsx').drop('Unnamed: 0', axis=1).drop(0)"
   ]
  },
  {
   "cell_type": "code",
   "execution_count": 43,
   "metadata": {},
   "outputs": [],
   "source": [
    "df = pd.read_excel('out.xlsx').drop('Unnamed: 0', axis=1)"
   ]
  },
  {
   "cell_type": "code",
   "execution_count": 44,
   "metadata": {},
   "outputs": [
    {
     "data": {
      "text/html": [
       "<div>\n",
       "<style scoped>\n",
       "    .dataframe tbody tr th:only-of-type {\n",
       "        vertical-align: middle;\n",
       "    }\n",
       "\n",
       "    .dataframe tbody tr th {\n",
       "        vertical-align: top;\n",
       "    }\n",
       "\n",
       "    .dataframe thead th {\n",
       "        text-align: right;\n",
       "    }\n",
       "</style>\n",
       "<table border=\"1\" class=\"dataframe\">\n",
       "  <thead>\n",
       "    <tr style=\"text-align: right;\">\n",
       "      <th></th>\n",
       "      <th>0</th>\n",
       "      <th>1</th>\n",
       "      <th>2</th>\n",
       "      <th>3</th>\n",
       "      <th>4</th>\n",
       "      <th>5</th>\n",
       "      <th>6</th>\n",
       "      <th>7</th>\n",
       "      <th>8</th>\n",
       "    </tr>\n",
       "  </thead>\n",
       "  <tbody>\n",
       "    <tr>\n",
       "      <th>0</th>\n",
       "      <td>1</td>\n",
       "      <td>A</td>\n",
       "      <td>0</td>\n",
       "      <td>2</td>\n",
       "      <td>B</td>\n",
       "      <td>0</td>\n",
       "      <td>3</td>\n",
       "      <td>D</td>\n",
       "      <td>0</td>\n",
       "    </tr>\n",
       "    <tr>\n",
       "      <th>1</th>\n",
       "      <td>1</td>\n",
       "      <td>A</td>\n",
       "      <td>0</td>\n",
       "      <td>2</td>\n",
       "      <td>B</td>\n",
       "      <td>0</td>\n",
       "      <td>3</td>\n",
       "      <td>D</td>\n",
       "      <td>0</td>\n",
       "    </tr>\n",
       "    <tr>\n",
       "      <th>2</th>\n",
       "      <td>1</td>\n",
       "      <td>A</td>\n",
       "      <td>0</td>\n",
       "      <td>2</td>\n",
       "      <td>B</td>\n",
       "      <td>0</td>\n",
       "      <td>SWITCH</td>\n",
       "      <td>SWITCH</td>\n",
       "      <td>SWITCH</td>\n",
       "    </tr>\n",
       "    <tr>\n",
       "      <th>3</th>\n",
       "      <td>1</td>\n",
       "      <td>A</td>\n",
       "      <td>0</td>\n",
       "      <td>SWITCH</td>\n",
       "      <td>SWITCH</td>\n",
       "      <td>SWITCH</td>\n",
       "      <td>3</td>\n",
       "      <td>C</td>\n",
       "      <td>1</td>\n",
       "    </tr>\n",
       "    <tr>\n",
       "      <th>4</th>\n",
       "      <td>IDLE</td>\n",
       "      <td>IDLE</td>\n",
       "      <td>IDLE</td>\n",
       "      <td>2</td>\n",
       "      <td>C</td>\n",
       "      <td>1</td>\n",
       "      <td>3</td>\n",
       "      <td>C</td>\n",
       "      <td>1</td>\n",
       "    </tr>\n",
       "    <tr>\n",
       "      <th>...</th>\n",
       "      <td>...</td>\n",
       "      <td>...</td>\n",
       "      <td>...</td>\n",
       "      <td>...</td>\n",
       "      <td>...</td>\n",
       "      <td>...</td>\n",
       "      <td>...</td>\n",
       "      <td>...</td>\n",
       "      <td>...</td>\n",
       "    </tr>\n",
       "    <tr>\n",
       "      <th>163</th>\n",
       "      <td>20</td>\n",
       "      <td>B</td>\n",
       "      <td>3</td>\n",
       "      <td>19</td>\n",
       "      <td>C</td>\n",
       "      <td>3</td>\n",
       "      <td>IDLE</td>\n",
       "      <td>IDLE</td>\n",
       "      <td>IDLE</td>\n",
       "    </tr>\n",
       "    <tr>\n",
       "      <th>164</th>\n",
       "      <td>20</td>\n",
       "      <td>B</td>\n",
       "      <td>3</td>\n",
       "      <td>19</td>\n",
       "      <td>C</td>\n",
       "      <td>3</td>\n",
       "      <td>IDLE</td>\n",
       "      <td>IDLE</td>\n",
       "      <td>IDLE</td>\n",
       "    </tr>\n",
       "    <tr>\n",
       "      <th>165</th>\n",
       "      <td>20</td>\n",
       "      <td>B</td>\n",
       "      <td>3</td>\n",
       "      <td>19</td>\n",
       "      <td>C</td>\n",
       "      <td>4</td>\n",
       "      <td>IDLE</td>\n",
       "      <td>IDLE</td>\n",
       "      <td>IDLE</td>\n",
       "    </tr>\n",
       "    <tr>\n",
       "      <th>166</th>\n",
       "      <td>SWITCH</td>\n",
       "      <td>SWITCH</td>\n",
       "      <td>SWITCH</td>\n",
       "      <td>19</td>\n",
       "      <td>C</td>\n",
       "      <td>4</td>\n",
       "      <td>20</td>\n",
       "      <td>D</td>\n",
       "      <td>4</td>\n",
       "    </tr>\n",
       "    <tr>\n",
       "      <th>167</th>\n",
       "      <td>65</td>\n",
       "      <td>A</td>\n",
       "      <td>0</td>\n",
       "      <td>19</td>\n",
       "      <td>C</td>\n",
       "      <td>4</td>\n",
       "      <td>20</td>\n",
       "      <td>D</td>\n",
       "      <td>4</td>\n",
       "    </tr>\n",
       "  </tbody>\n",
       "</table>\n",
       "<p>168 rows × 9 columns</p>\n",
       "</div>"
      ],
      "text/plain": [
       "          0       1       2       3       4       5       6       7       8\n",
       "0         1       A       0       2       B       0       3       D       0\n",
       "1         1       A       0       2       B       0       3       D       0\n",
       "2         1       A       0       2       B       0  SWITCH  SWITCH  SWITCH\n",
       "3         1       A       0  SWITCH  SWITCH  SWITCH       3       C       1\n",
       "4      IDLE    IDLE    IDLE       2       C       1       3       C       1\n",
       "..      ...     ...     ...     ...     ...     ...     ...     ...     ...\n",
       "163      20       B       3      19       C       3    IDLE    IDLE    IDLE\n",
       "164      20       B       3      19       C       3    IDLE    IDLE    IDLE\n",
       "165      20       B       3      19       C       4    IDLE    IDLE    IDLE\n",
       "166  SWITCH  SWITCH  SWITCH      19       C       4      20       D       4\n",
       "167      65       A       0      19       C       4      20       D       4\n",
       "\n",
       "[168 rows x 9 columns]"
      ]
     },
     "execution_count": 44,
     "metadata": {},
     "output_type": "execute_result"
    }
   ],
   "source": [
    "df"
   ]
  },
  {
   "cell_type": "code",
   "execution_count": 45,
   "metadata": {},
   "outputs": [],
   "source": [
    "alpha, beta, gamma = df.to_numpy()[:,:3], df.to_numpy()[:,3:6], df.to_numpy()[:,6:9]"
   ]
  },
  {
   "cell_type": "code",
   "execution_count": 46,
   "metadata": {},
   "outputs": [
    {
     "data": {
      "text/plain": [
       "array(['A', 'IDLE', 'SWITCH', 'IDLE', 'SWITCH', 'D', 'SWITCH', 'B',\n",
       "       'SWITCH', 'IDLE', 'SWITCH', 'B', 'SWITCH', 'IDLE', 'A', 'IDLE',\n",
       "       'SWITCH', 'IDLE', 'SWITCH', 'IDLE', 'D', 'SWITCH', 'IDLE', 'B',\n",
       "       'SWITCH', 'D', 'IDLE', 'SWITCH', 'B', 'SWITCH', 'D', 'IDLE', 'D',\n",
       "       'IDLE', 'SWITCH', 'B', 'SWITCH', 'IDLE', 'D', 'IDLE', 'D', 'IDLE',\n",
       "       'SWITCH', 'B', 'SWITCH', 'IDLE', 'D', 'IDLE', 'SWITCH', 'IDLE',\n",
       "       'B', 'IDLE', 'B', 'SWITCH', 'IDLE', 'SWITCH', 'B', 'SWITCH', 'A'],\n",
       "      dtype=object)"
      ]
     },
     "execution_count": 46,
     "metadata": {},
     "output_type": "execute_result"
    }
   ],
   "source": [
    "prev = object()\n",
    "np.stack([prev:=v for v in alpha if (prev!=v).all()])[:,1]"
   ]
  },
  {
   "cell_type": "code",
   "execution_count": 47,
   "metadata": {},
   "outputs": [
    {
     "name": "stdout",
     "output_type": "stream",
     "text": [
      "['A', 'IDLE', 'SWITCH', 'IDLE', 'SWITCH', 'D', 'SWITCH', 'B', 'SWITCH', 'IDLE', 'SWITCH', 'B', 'SWITCH', 'IDLE', 'A', 'IDLE', 'SWITCH', 'IDLE', 'SWITCH', 'IDLE', 'D', 'SWITCH', 'IDLE', 'B', 'SWITCH', 'D', 'IDLE', 'SWITCH', 'B', 'SWITCH', 'D', 'IDLE', 'D', 'IDLE', 'SWITCH', 'B', 'SWITCH', 'IDLE', 'D', 'IDLE', 'D', 'IDLE', 'SWITCH', 'B', 'SWITCH', 'IDLE', 'D', 'IDLE', 'SWITCH', 'IDLE', 'B', 'IDLE', 'B', 'SWITCH', 'IDLE', 'SWITCH', 'B', 'SWITCH', 'A']\n",
      "['B', 'SWITCH', 'C', 'SWITCH', 'B', 'SWITCH', 'C', 'SWITCH', 'B', 'SWITCH', 'C', 'IDLE', 'C', 'IDLE', 'SWITCH', 'IDLE', 'SWITCH', 'C', 'SWITCH', 'IDLE', 'B', 'IDLE', 'SWITCH', 'C', 'IDLE', 'C', 'IDLE', 'SWITCH', 'IDLE', 'SWITCH', 'C']\n",
      "['D', 'SWITCH', 'C', 'SWITCH', 'D', 'SWITCH', 'C', 'SWITCH', 'D', 'SWITCH', 'C', 'IDLE', 'SWITCH', 'D', 'SWITCH', 'C', 'SWITCH', 'IDLE', 'D', 'IDLE', 'D', 'IDLE', 'D', 'IDLE', 'SWITCH', 'C', 'SWITCH', 'D', 'SWITCH', 'C', 'IDLE', 'SWITCH', 'IDLE', 'D', 'IDLE', 'D', 'IDLE', 'SWITCH', 'C', 'SWITCH', 'IDLE', 'D', 'IDLE', 'D']\n"
     ]
    }
   ],
   "source": [
    "num_recipe = [0,0,0,0,0]\n",
    "for x in [alpha,beta,gamma]:\n",
    "    prev = object()\n",
    "    y = [prev:=v for v in x if (prev!=v).all()]\n",
    "    print(list(np.stack(y)[:,1]))\n",
    "    recipes = list(filter(lambda ch: len(ch) == 1, list(np.stack(y)[:,1])))\n",
    "    for recipe in recipes:\n",
    "        num_recipe[ord(recipe)-65] += 1"
   ]
  },
  {
   "cell_type": "code",
   "execution_count": 48,
   "metadata": {},
   "outputs": [
    {
     "data": {
      "text/plain": [
       "[3, 13, 15, 20, 0]"
      ]
     },
     "execution_count": 48,
     "metadata": {},
     "output_type": "execute_result"
    }
   ],
   "source": [
    "num_recipe"
   ]
  },
  {
   "cell_type": "code",
   "execution_count": 49,
   "metadata": {},
   "outputs": [],
   "source": [
    "material_use = [0,0,0]\n",
    "for recipe, value in enumerate(num_recipe):\n",
    "    for material, usage in enumerate(Const.recipeMaterialUse[recipe]):\n",
    "        material_use[material] += usage * value"
   ]
  },
  {
   "cell_type": "code",
   "execution_count": 50,
   "metadata": {},
   "outputs": [
    {
     "data": {
      "text/plain": [
       "[562, 721, 120]"
      ]
     },
     "execution_count": 50,
     "metadata": {},
     "output_type": "execute_result"
    }
   ],
   "source": [
    "material_use"
   ]
  },
  {
   "cell_type": "code",
   "execution_count": 51,
   "metadata": {},
   "outputs": [],
   "source": [
    "cost = 0\n",
    "for i, x in enumerate(material_use):\n",
    "    if x <= 50:\n",
    "        cost += Const.materialCosts[i][0] * x\n",
    "    elif x <= 500:\n",
    "        cost += Const.materialCosts[i][1] * x\n",
    "    else:\n",
    "        cost += Const.materialCosts[i][2] * x"
   ]
  },
  {
   "cell_type": "code",
   "execution_count": 52,
   "metadata": {},
   "outputs": [
    {
     "data": {
      "text/plain": [
       "305000"
      ]
     },
     "execution_count": 52,
     "metadata": {},
     "output_type": "execute_result"
    }
   ],
   "source": [
    "cost"
   ]
  },
  {
   "cell_type": "code",
   "execution_count": 53,
   "metadata": {},
   "outputs": [
    {
     "data": {
      "text/plain": [
       "415000"
      ]
     },
     "execution_count": 53,
     "metadata": {},
     "output_type": "execute_result"
    }
   ],
   "source": [
    "18*40000-cost"
   ]
  },
  {
   "cell_type": "code",
   "execution_count": null,
   "metadata": {},
   "outputs": [],
   "source": []
  }
 ],
 "metadata": {
  "kernelspec": {
   "display_name": "Python 3",
   "language": "python",
   "name": "python3"
  },
  "language_info": {
   "codemirror_mode": {
    "name": "ipython",
    "version": 3
   },
   "file_extension": ".py",
   "mimetype": "text/x-python",
   "name": "python",
   "nbconvert_exporter": "python",
   "pygments_lexer": "ipython3",
   "version": "3.10.12"
  }
 },
 "nbformat": 4,
 "nbformat_minor": 2
}
